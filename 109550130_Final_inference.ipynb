{
 "cells": [
  {
   "cell_type": "code",
   "execution_count": 35,
   "metadata": {},
   "outputs": [],
   "source": [
    "import numpy as np\n",
    "import pandas as pd\n",
    "import joblib\n",
    "from sklearn.linear_model import LogisticRegression, HuberRegressor\n",
    "from sklearn.impute import KNNImputer\n",
    "from sklearn.preprocessing import LabelEncoder"
   ]
  },
  {
   "cell_type": "code",
   "execution_count": 36,
   "metadata": {},
   "outputs": [
    {
     "name": "stdout",
     "output_type": "stream",
     "text": [
      "(20775, 25)\n"
     ]
    }
   ],
   "source": [
    "df_test = pd.read_csv(\"test.csv\")\n",
    "print(df_test.shape)\n",
    "\n",
    "df_test.drop(columns='id', inplace=True)"
   ]
  },
  {
   "cell_type": "code",
   "execution_count": 37,
   "metadata": {},
   "outputs": [],
   "source": [
    "#take out the columns of 'measurement_x' and 'loading'\n",
    "col_mea_load = [f for f in df_test.columns if f.startswith('measurement') or f=='loading']\n",
    "\n",
    "#the columns mean the high correlation with 'measurement_17'\n",
    "fill_dict = {}\n",
    "fill_dict = {\n",
    "    'F': ['measurement_4','measurement_5','measurement_6','measurement_7'],\n",
    "    'G': ['measurement_4','measurement_6','measurement_8','measurement_9'],\n",
    "    'H': ['measurement_4','measurement_5','measurement_7','measurement_8','measurement_9'],\n",
    "    'I': ['measurement_3','measurement_7','measurement_8', 'measurement_9']\n",
    "}\n",
    "\n",
    "for code in df_test.product_code.unique():\n",
    "    curr_code_data = df_test[df_test.product_code == code]\n",
    "    cur_column = fill_dict[code]\n",
    "    #besides the corresponded columns, add the column 'measurement_17' and drop any row with nan.\n",
    "    cur_train = curr_code_data[cur_column + ['measurement_17']].dropna(how='any')\n",
    "    #cur_test take the data of the columns of the corresponding code without any nan and the column 'measurement_17' is nan\n",
    "    cur_val = curr_code_data[(curr_code_data[cur_column].isnull().sum(axis = 1) == 0) & (curr_code_data['measurement_17'].isnull())]\n",
    "\n",
    "    mode_HR = HuberRegressor()\n",
    "    mode_HR.fit(cur_train[cur_column], cur_train['measurement_17'])\n",
    "\n",
    "    df_test.loc[(df_test.product_code == code) &\\\n",
    "        #there is no nan in the corresponded column(cur_column)\n",
    "        (df_test[cur_column].isnull().sum(axis = 1) == 0) &\\\n",
    "            #the value in column 'measurement_17' is nan\n",
    "            (df_test['measurement_17'].isnull()), 'measurement_17'] = mode_HR.predict(cur_val[cur_column])\n",
    "\n",
    "    #find the 5 nearest neighbors, use their values to get the mean to fill is the empty of nan.\n",
    "    impute_number = KNNImputer(n_neighbors=5)\n",
    "    df_test.loc[df_test.product_code == code, col_mea_load] = impute_number.fit_transform(df_test.loc[df_test.product_code == code, col_mea_load])"
   ]
  },
  {
   "cell_type": "code",
   "execution_count": 38,
   "metadata": {},
   "outputs": [],
   "source": [
    "#LabelEncoder:把object type的資料轉換為數值的順序\n",
    "label_encode = LabelEncoder()\n",
    "\n",
    "df_test_cpy = df_test.copy()\n",
    "\n",
    "col_obj = df_test.select_dtypes(object).columns\n",
    "\n",
    "for col in col_obj:\n",
    "    df_test_cpy[col] = label_encode.fit_transform(df_test[col])\n",
    "\n",
    "df_test = df_test_cpy"
   ]
  },
  {
   "cell_type": "code",
   "execution_count": 39,
   "metadata": {},
   "outputs": [],
   "source": [
    "load_model = joblib.load('my_model')"
   ]
  },
  {
   "cell_type": "code",
   "execution_count": 40,
   "metadata": {},
   "outputs": [],
   "source": [
    "y_pred = load_model.predict_proba(df_test)"
   ]
  },
  {
   "cell_type": "code",
   "execution_count": 41,
   "metadata": {},
   "outputs": [
    {
     "data": {
      "text/html": [
       "<div>\n",
       "<style scoped>\n",
       "    .dataframe tbody tr th:only-of-type {\n",
       "        vertical-align: middle;\n",
       "    }\n",
       "\n",
       "    .dataframe tbody tr th {\n",
       "        vertical-align: top;\n",
       "    }\n",
       "\n",
       "    .dataframe thead th {\n",
       "        text-align: right;\n",
       "    }\n",
       "</style>\n",
       "<table border=\"1\" class=\"dataframe\">\n",
       "  <thead>\n",
       "    <tr style=\"text-align: right;\">\n",
       "      <th></th>\n",
       "      <th>id</th>\n",
       "      <th>failure</th>\n",
       "    </tr>\n",
       "  </thead>\n",
       "  <tbody>\n",
       "    <tr>\n",
       "      <th>0</th>\n",
       "      <td>26570</td>\n",
       "      <td>0.192887</td>\n",
       "    </tr>\n",
       "    <tr>\n",
       "      <th>1</th>\n",
       "      <td>26571</td>\n",
       "      <td>0.175995</td>\n",
       "    </tr>\n",
       "    <tr>\n",
       "      <th>2</th>\n",
       "      <td>26572</td>\n",
       "      <td>0.185518</td>\n",
       "    </tr>\n",
       "    <tr>\n",
       "      <th>3</th>\n",
       "      <td>26573</td>\n",
       "      <td>0.181445</td>\n",
       "    </tr>\n",
       "    <tr>\n",
       "      <th>4</th>\n",
       "      <td>26574</td>\n",
       "      <td>0.337172</td>\n",
       "    </tr>\n",
       "    <tr>\n",
       "      <th>...</th>\n",
       "      <td>...</td>\n",
       "      <td>...</td>\n",
       "    </tr>\n",
       "    <tr>\n",
       "      <th>20770</th>\n",
       "      <td>47340</td>\n",
       "      <td>0.230777</td>\n",
       "    </tr>\n",
       "    <tr>\n",
       "      <th>20771</th>\n",
       "      <td>47341</td>\n",
       "      <td>0.144326</td>\n",
       "    </tr>\n",
       "    <tr>\n",
       "      <th>20772</th>\n",
       "      <td>47342</td>\n",
       "      <td>0.150269</td>\n",
       "    </tr>\n",
       "    <tr>\n",
       "      <th>20773</th>\n",
       "      <td>47343</td>\n",
       "      <td>0.210797</td>\n",
       "    </tr>\n",
       "    <tr>\n",
       "      <th>20774</th>\n",
       "      <td>47344</td>\n",
       "      <td>0.157694</td>\n",
       "    </tr>\n",
       "  </tbody>\n",
       "</table>\n",
       "<p>20775 rows × 2 columns</p>\n",
       "</div>"
      ],
      "text/plain": [
       "          id   failure\n",
       "0      26570  0.192887\n",
       "1      26571  0.175995\n",
       "2      26572  0.185518\n",
       "3      26573  0.181445\n",
       "4      26574  0.337172\n",
       "...      ...       ...\n",
       "20770  47340  0.230777\n",
       "20771  47341  0.144326\n",
       "20772  47342  0.150269\n",
       "20773  47343  0.210797\n",
       "20774  47344  0.157694\n",
       "\n",
       "[20775 rows x 2 columns]"
      ]
     },
     "execution_count": 41,
     "metadata": {},
     "output_type": "execute_result"
    }
   ],
   "source": [
    "df_sub = pd.read_csv(\"sample_submission.csv\")\n",
    "\n",
    "df_sub['failure']=y_pred[:, 1]\n",
    "\n",
    "df_sub.to_csv(\"submission.csv\", index=False)\n",
    "df_sub"
   ]
  }
 ],
 "metadata": {
  "kernelspec": {
   "display_name": "venv",
   "language": "python",
   "name": "python3"
  },
  "language_info": {
   "codemirror_mode": {
    "name": "ipython",
    "version": 3
   },
   "file_extension": ".py",
   "mimetype": "text/x-python",
   "name": "python",
   "nbconvert_exporter": "python",
   "pygments_lexer": "ipython3",
   "version": "3.8.0"
  },
  "orig_nbformat": 4,
  "vscode": {
   "interpreter": {
    "hash": "b14a4efc78d5cfd89aa1a57ab2b7060b277f74ccbc05f932e8525ac34f681317"
   }
  }
 },
 "nbformat": 4,
 "nbformat_minor": 2
}
