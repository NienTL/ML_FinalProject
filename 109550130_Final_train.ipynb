{
 "cells": [
  {
   "cell_type": "code",
   "execution_count": 23,
   "metadata": {},
   "outputs": [],
   "source": [
    "import numpy as np\n",
    "import pandas as pd\n",
    "import os\n",
    "from sklearn.preprocessing import LabelEncoder\n",
    "from sklearn.model_selection import train_test_split\n",
    "from sklearn.linear_model import LogisticRegression, HuberRegressor\n",
    "from sklearn.impute import KNNImputer\n",
    "import joblib"
   ]
  },
  {
   "cell_type": "code",
   "execution_count": 24,
   "metadata": {},
   "outputs": [
    {
     "name": "stdout",
     "output_type": "stream",
     "text": [
      "(26570, 26)\n"
     ]
    }
   ],
   "source": [
    "#Baseline: 0.58990\n",
    "#Data analysis\n",
    "df_train = pd.read_csv(\"train.csv\")\n",
    "print(df_train.shape)"
   ]
  },
  {
   "cell_type": "code",
   "execution_count": 25,
   "metadata": {},
   "outputs": [
    {
     "name": "stderr",
     "output_type": "stream",
     "text": [
      "C:\\Users\\User\\AppData\\Local\\Temp\\ipykernel_42264\\1657787169.py:4: FutureWarning: The default value of numeric_only in DataFrame.corr is deprecated. In a future version, it will default to False. Select only valid columns or specify the value of numeric_only to silence this warning.\n",
      "  col_corr = df_train.corr() # -> 'loading' has the highest correlation with 'failure'\n"
     ]
    }
   ],
   "source": [
    "df_train.drop(columns='id', inplace=True)\n",
    "\n",
    "#the correlation of each column\n",
    "col_corr = df_train.corr() # -> 'loading' has the highest correlation with 'failure'\n",
    "# print(col_corr)"
   ]
  },
  {
   "cell_type": "code",
   "execution_count": 26,
   "metadata": {},
   "outputs": [],
   "source": [
    "#take out the columns of 'measurement_x' and 'loading'\n",
    "col_mea_load = [f for f in df_train.columns if f.startswith('measurement') or f=='loading']\n",
    "\n",
    "#the columns mean the high correlation with 'measurement_17'\n",
    "fill_dict = {}\n",
    "fill_dict = {\n",
    "    'A': ['measurement_5','measurement_6','measurement_7', 'measurement_8'],\n",
    "    'B': ['measurement_4','measurement_5','measurement_7', 'measurement_9'],\n",
    "    'C': ['measurement_5','measurement_7','measurement_8','measurement_9'],\n",
    "    'D': ['measurement_5','measurement_6','measurement_7','measurement_8'],\n",
    "    'E': ['measurement_4','measurement_5','measurement_6','measurement_8'],\n",
    "}\n",
    "\n",
    "for code in df_train.product_code.unique():\n",
    "    curr_code_data = df_train[df_train.product_code == code]\n",
    "    cur_column = fill_dict[code]\n",
    "    #besides the corresponded columns, add the column 'measurement_17' and drop any row with nan.\n",
    "    cur_train = curr_code_data[cur_column + ['measurement_17']].dropna(how='any')\n",
    "    #cur_test take the data of the columns of the corresponding code without any nan and the column 'measurement_17' is nan\n",
    "    cur_val = curr_code_data[(curr_code_data[cur_column].isnull().sum(axis = 1) == 0) & (curr_code_data['measurement_17'].isnull())]\n",
    "\n",
    "    mode_HR = HuberRegressor()\n",
    "    mode_HR.fit(cur_train[cur_column], cur_train['measurement_17'])\n",
    "\n",
    "    df_train.loc[(df_train.product_code == code) &\\\n",
    "        #there is no nan in the corresponded column(cur_column)\n",
    "        (df_train[cur_column].isnull().sum(axis = 1) == 0) &\\\n",
    "            #the value in column 'measurement_17' is nan\n",
    "            (df_train['measurement_17'].isnull()), 'measurement_17'] = mode_HR.predict(cur_val[cur_column])\n",
    "\n",
    "    #find the 5 nearest neighbors, use their values to get the mean to fill is the empty of nan.\n",
    "    impute_number = KNNImputer(n_neighbors=5)\n",
    "    df_train.loc[df_train.product_code == code, col_mea_load] = impute_number.fit_transform(df_train.loc[df_train.product_code == code, col_mea_load])"
   ]
  },
  {
   "cell_type": "code",
   "execution_count": 27,
   "metadata": {},
   "outputs": [],
   "source": [
    "#LabelEncoder:把object type的資料轉換為數值的順序\n",
    "label_encode = LabelEncoder()\n",
    "\n",
    "df_train_cpy = df_train.copy()\n",
    "\n",
    "col_obj = df_train.select_dtypes(object).columns\n",
    "\n",
    "for col in col_obj:\n",
    "    df_train_cpy[col] = label_encode.fit_transform(df_train[col])\n",
    "\n",
    "df_train = df_train_cpy"
   ]
  },
  {
   "cell_type": "code",
   "execution_count": 28,
   "metadata": {},
   "outputs": [
    {
     "name": "stdout",
     "output_type": "stream",
     "text": [
      "x_train's shape: (18599, 24)\n",
      "y_train's shape: (18599,)\n",
      "x_val's shape: (7971, 24)\n",
      "y_val's shape: (7971,)\n"
     ]
    }
   ],
   "source": [
    "x = df_train.drop(columns='failure')\n",
    "y = df_train['failure']\n",
    "# print(x.shape)\n",
    "# print(y.shape)\n",
    "\n",
    "#train_size : validation_size = 0.7 : 0.3\n",
    "x_train, x_val, y_train, y_val = train_test_split(x, y, train_size=0.7, random_state=60)\n",
    "\n",
    "print(\"x_train's shape:\", x_train.shape)\n",
    "print(\"y_train's shape:\", y_train.shape)\n",
    "print(\"x_val's shape:\", x_val.shape)\n",
    "print(\"y_val's shape:\", y_val.shape)"
   ]
  },
  {
   "cell_type": "code",
   "execution_count": 29,
   "metadata": {},
   "outputs": [
    {
     "data": {
      "text/html": [
       "<style>#sk-container-id-2 {color: black;background-color: white;}#sk-container-id-2 pre{padding: 0;}#sk-container-id-2 div.sk-toggleable {background-color: white;}#sk-container-id-2 label.sk-toggleable__label {cursor: pointer;display: block;width: 100%;margin-bottom: 0;padding: 0.3em;box-sizing: border-box;text-align: center;}#sk-container-id-2 label.sk-toggleable__label-arrow:before {content: \"▸\";float: left;margin-right: 0.25em;color: #696969;}#sk-container-id-2 label.sk-toggleable__label-arrow:hover:before {color: black;}#sk-container-id-2 div.sk-estimator:hover label.sk-toggleable__label-arrow:before {color: black;}#sk-container-id-2 div.sk-toggleable__content {max-height: 0;max-width: 0;overflow: hidden;text-align: left;background-color: #f0f8ff;}#sk-container-id-2 div.sk-toggleable__content pre {margin: 0.2em;color: black;border-radius: 0.25em;background-color: #f0f8ff;}#sk-container-id-2 input.sk-toggleable__control:checked~div.sk-toggleable__content {max-height: 200px;max-width: 100%;overflow: auto;}#sk-container-id-2 input.sk-toggleable__control:checked~label.sk-toggleable__label-arrow:before {content: \"▾\";}#sk-container-id-2 div.sk-estimator input.sk-toggleable__control:checked~label.sk-toggleable__label {background-color: #d4ebff;}#sk-container-id-2 div.sk-label input.sk-toggleable__control:checked~label.sk-toggleable__label {background-color: #d4ebff;}#sk-container-id-2 input.sk-hidden--visually {border: 0;clip: rect(1px 1px 1px 1px);clip: rect(1px, 1px, 1px, 1px);height: 1px;margin: -1px;overflow: hidden;padding: 0;position: absolute;width: 1px;}#sk-container-id-2 div.sk-estimator {font-family: monospace;background-color: #f0f8ff;border: 1px dotted black;border-radius: 0.25em;box-sizing: border-box;margin-bottom: 0.5em;}#sk-container-id-2 div.sk-estimator:hover {background-color: #d4ebff;}#sk-container-id-2 div.sk-parallel-item::after {content: \"\";width: 100%;border-bottom: 1px solid gray;flex-grow: 1;}#sk-container-id-2 div.sk-label:hover label.sk-toggleable__label {background-color: #d4ebff;}#sk-container-id-2 div.sk-serial::before {content: \"\";position: absolute;border-left: 1px solid gray;box-sizing: border-box;top: 0;bottom: 0;left: 50%;z-index: 0;}#sk-container-id-2 div.sk-serial {display: flex;flex-direction: column;align-items: center;background-color: white;padding-right: 0.2em;padding-left: 0.2em;position: relative;}#sk-container-id-2 div.sk-item {position: relative;z-index: 1;}#sk-container-id-2 div.sk-parallel {display: flex;align-items: stretch;justify-content: center;background-color: white;position: relative;}#sk-container-id-2 div.sk-item::before, #sk-container-id-2 div.sk-parallel-item::before {content: \"\";position: absolute;border-left: 1px solid gray;box-sizing: border-box;top: 0;bottom: 0;left: 50%;z-index: -1;}#sk-container-id-2 div.sk-parallel-item {display: flex;flex-direction: column;z-index: 1;position: relative;background-color: white;}#sk-container-id-2 div.sk-parallel-item:first-child::after {align-self: flex-end;width: 50%;}#sk-container-id-2 div.sk-parallel-item:last-child::after {align-self: flex-start;width: 50%;}#sk-container-id-2 div.sk-parallel-item:only-child::after {width: 0;}#sk-container-id-2 div.sk-dashed-wrapped {border: 1px dashed gray;margin: 0 0.4em 0.5em 0.4em;box-sizing: border-box;padding-bottom: 0.4em;background-color: white;}#sk-container-id-2 div.sk-label label {font-family: monospace;font-weight: bold;display: inline-block;line-height: 1.2em;}#sk-container-id-2 div.sk-label-container {text-align: center;}#sk-container-id-2 div.sk-container {/* jupyter's `normalize.less` sets `[hidden] { display: none; }` but bootstrap.min.css set `[hidden] { display: none !important; }` so we also need the `!important` here to be able to override the default hidden behavior on the sphinx rendered scikit-learn.org. See: https://github.com/scikit-learn/scikit-learn/issues/21755 */display: inline-block !important;position: relative;}#sk-container-id-2 div.sk-text-repr-fallback {display: none;}</style><div id=\"sk-container-id-2\" class=\"sk-top-container\"><div class=\"sk-text-repr-fallback\"><pre>LogisticRegression(C=5e-06, max_iter=3000, solver=&#x27;newton-cg&#x27;)</pre><b>In a Jupyter environment, please rerun this cell to show the HTML representation or trust the notebook. <br />On GitHub, the HTML representation is unable to render, please try loading this page with nbviewer.org.</b></div><div class=\"sk-container\" hidden><div class=\"sk-item\"><div class=\"sk-estimator sk-toggleable\"><input class=\"sk-toggleable__control sk-hidden--visually\" id=\"sk-estimator-id-2\" type=\"checkbox\" checked><label for=\"sk-estimator-id-2\" class=\"sk-toggleable__label sk-toggleable__label-arrow\">LogisticRegression</label><div class=\"sk-toggleable__content\"><pre>LogisticRegression(C=5e-06, max_iter=3000, solver=&#x27;newton-cg&#x27;)</pre></div></div></div></div></div>"
      ],
      "text/plain": [
       "LogisticRegression(C=5e-06, max_iter=3000, solver='newton-cg')"
      ]
     },
     "execution_count": 29,
     "metadata": {},
     "output_type": "execute_result"
    }
   ],
   "source": [
    "model = LogisticRegression(max_iter=3000, C=0.000005, penalty='l2', solver='newton-cg')\n",
    "model.fit(x_train, y_train)"
   ]
  },
  {
   "cell_type": "code",
   "execution_count": 30,
   "metadata": {},
   "outputs": [
    {
     "data": {
      "text/plain": [
       "['my_model']"
      ]
     },
     "execution_count": 30,
     "metadata": {},
     "output_type": "execute_result"
    }
   ],
   "source": [
    "#save the model\n",
    "joblib.dump(model, 'my_model')"
   ]
  }
 ],
 "metadata": {
  "kernelspec": {
   "display_name": "venv",
   "language": "python",
   "name": "python3"
  },
  "language_info": {
   "codemirror_mode": {
    "name": "ipython",
    "version": 3
   },
   "file_extension": ".py",
   "mimetype": "text/x-python",
   "name": "python",
   "nbconvert_exporter": "python",
   "pygments_lexer": "ipython3",
   "version": "3.8.0"
  },
  "orig_nbformat": 4,
  "vscode": {
   "interpreter": {
    "hash": "b14a4efc78d5cfd89aa1a57ab2b7060b277f74ccbc05f932e8525ac34f681317"
   }
  }
 },
 "nbformat": 4,
 "nbformat_minor": 2
}
